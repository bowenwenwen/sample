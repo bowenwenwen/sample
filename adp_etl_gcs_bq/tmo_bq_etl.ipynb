{
 "cells": [
  {
   "cell_type": "code",
   "execution_count": 1,
   "id": "3672d5e9",
   "metadata": {},
   "outputs": [],
   "source": [
    "import pandas as pd\n",
    "import utils as U\n",
    "from datetime import datetime\n",
    "import numpy as np\n",
    "import data_ingestion\n",
    "import os\n",
    "pd.set_option('display.max_columns', None)"
   ]
  },
  {
   "cell_type": "markdown",
   "id": "dbd7c4b8",
   "metadata": {},
   "source": [
    "## report handler"
   ]
  },
  {
   "cell_type": "code",
   "execution_count": 35,
   "id": "1c13e828",
   "metadata": {},
   "outputs": [],
   "source": [
    "import imp\n",
    "import report_handler\n",
    "imp.reload(report_handler)\n",
    "config = U.get_config(\"config.ini\")"
   ]
  },
  {
   "cell_type": "code",
   "execution_count": 36,
   "id": "99097597",
   "metadata": {},
   "outputs": [
    {
     "name": "stdout",
     "output_type": "stream",
     "text": [
      "between 6 and 18\n"
     ]
    }
   ],
   "source": [
    "r_obj = report_handler.ReportHandler(config)"
   ]
  },
  {
   "cell_type": "code",
   "execution_count": 37,
   "id": "08e70903",
   "metadata": {},
   "outputs": [
    {
     "data": {
      "text/plain": [
       "'ListSchemaSize_Report_2024032018_koss01.csv'"
      ]
     },
     "execution_count": 37,
     "metadata": {},
     "output_type": "execute_result"
    }
   ],
   "source": [
    "r_obj.schema_size_file_name"
   ]
  },
  {
   "cell_type": "code",
   "execution_count": 38,
   "id": "3868a69e",
   "metadata": {},
   "outputs": [
    {
     "name": "stdout",
     "output_type": "stream",
     "text": [
      "data appended for <Blob: cust01-heapdump, ListSchemaSize/ListSchemaSize_Report_2024032018_koss01.csv, 1710971806693211>\n",
      "dataframe creation completed\n"
     ]
    }
   ],
   "source": [
    "\n",
    "r_obj.transform_schema_size_data()"
   ]
  },
  {
   "cell_type": "code",
   "execution_count": 39,
   "id": "a522b6e1",
   "metadata": {},
   "outputs": [
    {
     "data": {
      "text/html": [
       "<div>\n",
       "<style scoped>\n",
       "    .dataframe tbody tr th:only-of-type {\n",
       "        vertical-align: middle;\n",
       "    }\n",
       "\n",
       "    .dataframe tbody tr th {\n",
       "        vertical-align: top;\n",
       "    }\n",
       "\n",
       "    .dataframe thead th {\n",
       "        text-align: right;\n",
       "    }\n",
       "</style>\n",
       "<table border=\"1\" class=\"dataframe\">\n",
       "  <thead>\n",
       "    <tr style=\"text-align: right;\">\n",
       "      <th></th>\n",
       "      <th>schema_name</th>\n",
       "      <th>schema_size</th>\n",
       "      <th>stack_env</th>\n",
       "    </tr>\n",
       "  </thead>\n",
       "  <tbody>\n",
       "    <tr>\n",
       "      <th>0</th>\n",
       "      <td>actsretirement_nonprd_08</td>\n",
       "      <td>67 GB</td>\n",
       "      <td>cust01-npr01</td>\n",
       "    </tr>\n",
       "    <tr>\n",
       "      <th>1</th>\n",
       "      <td>adp_ref_01</td>\n",
       "      <td>178 MB</td>\n",
       "      <td>cust01-npr01</td>\n",
       "    </tr>\n",
       "    <tr>\n",
       "      <th>2</th>\n",
       "      <td>adp_ref_02</td>\n",
       "      <td>204 MB</td>\n",
       "      <td>cust01-npr01</td>\n",
       "    </tr>\n",
       "    <tr>\n",
       "      <th>3</th>\n",
       "      <td>arandellcorp_nonprd_04</td>\n",
       "      <td>2339 MB</td>\n",
       "      <td>cust01-npr01</td>\n",
       "    </tr>\n",
       "    <tr>\n",
       "      <th>4</th>\n",
       "      <td>blank_nonprd_01</td>\n",
       "      <td>721 MB</td>\n",
       "      <td>cust01-npr01</td>\n",
       "    </tr>\n",
       "    <tr>\n",
       "      <th>...</th>\n",
       "      <td>...</td>\n",
       "      <td>...</td>\n",
       "      <td>...</td>\n",
       "    </tr>\n",
       "    <tr>\n",
       "      <th>11744</th>\n",
       "      <td>tor_nonprd_01</td>\n",
       "      <td>23 GB</td>\n",
       "      <td>kcfn01-evl01</td>\n",
       "    </tr>\n",
       "    <tr>\n",
       "      <th>11745</th>\n",
       "      <td>wfd_admess_att_acc_template_04</td>\n",
       "      <td>487 MB</td>\n",
       "      <td>kcfn01-evl01</td>\n",
       "    </tr>\n",
       "    <tr>\n",
       "      <th>11746</th>\n",
       "      <td>wfd_r1_tk_admin_template_02</td>\n",
       "      <td>630 MB</td>\n",
       "      <td>kcfn01-evl01</td>\n",
       "    </tr>\n",
       "    <tr>\n",
       "      <th>11747</th>\n",
       "      <td>wfmgr_mas_itl_nonprd_01</td>\n",
       "      <td>4955 MB</td>\n",
       "      <td>kcfn01-evl01</td>\n",
       "    </tr>\n",
       "    <tr>\n",
       "      <th>11748</th>\n",
       "      <td>xteam_nonprd_05</td>\n",
       "      <td>1688 MB</td>\n",
       "      <td>kcfn01-evl01</td>\n",
       "    </tr>\n",
       "  </tbody>\n",
       "</table>\n",
       "<p>11724 rows × 3 columns</p>\n",
       "</div>"
      ],
      "text/plain": [
       "                          schema_name schema_size     stack_env\n",
       "0            actsretirement_nonprd_08       67 GB  cust01-npr01\n",
       "1                          adp_ref_01      178 MB  cust01-npr01\n",
       "2                          adp_ref_02      204 MB  cust01-npr01\n",
       "3              arandellcorp_nonprd_04     2339 MB  cust01-npr01\n",
       "4                     blank_nonprd_01      721 MB  cust01-npr01\n",
       "...                               ...         ...           ...\n",
       "11744                   tor_nonprd_01       23 GB  kcfn01-evl01\n",
       "11745  wfd_admess_att_acc_template_04      487 MB  kcfn01-evl01\n",
       "11746     wfd_r1_tk_admin_template_02      630 MB  kcfn01-evl01\n",
       "11747         wfmgr_mas_itl_nonprd_01     4955 MB  kcfn01-evl01\n",
       "11748                 xteam_nonprd_05     1688 MB  kcfn01-evl01\n",
       "\n",
       "[11724 rows x 3 columns]"
      ]
     },
     "execution_count": 39,
     "metadata": {},
     "output_type": "execute_result"
    }
   ],
   "source": [
    "r_obj.schema_size_data"
   ]
  },
  {
   "cell_type": "code",
   "execution_count": 42,
   "id": "8de30c76",
   "metadata": {},
   "outputs": [
    {
     "data": {
      "text/plain": [
       "13825"
      ]
     },
     "execution_count": 42,
     "metadata": {},
     "output_type": "execute_result"
    }
   ],
   "source": [
    "len(r_obj.tms_data)"
   ]
  },
  {
   "cell_type": "code",
   "execution_count": 40,
   "id": "49e80884",
   "metadata": {},
   "outputs": [
    {
     "name": "stdout",
     "output_type": "stream",
     "text": [
      "data appended for <Blob: cust01-heapdump, TMSReports/TMSEntitlement_2024032106_koss01.csv, 1711000826507214>\n",
      "dataframe creation completed\n"
     ]
    }
   ],
   "source": [
    "r_obj.transform_tms_data()"
   ]
  },
  {
   "cell_type": "code",
   "execution_count": 20,
   "id": "40d65565",
   "metadata": {},
   "outputs": [
    {
     "name": "stdout",
     "output_type": "stream",
     "text": [
      "data appended for <Blob: cust01-heapdump, TMSReports/License_2024032106_koss01.csv, 1711004632631029>\n",
      "dataframe creation completed\n"
     ]
    }
   ],
   "source": [
    "r_obj.transform_license_data()"
   ]
  },
  {
   "cell_type": "code",
   "execution_count": 21,
   "id": "6addcc45",
   "metadata": {
    "scrolled": true
   },
   "outputs": [
    {
     "name": "stdout",
     "output_type": "stream",
     "text": [
      "16\n",
      "data appended for <Blob: cust01-heapdump, TMSReports/ActiveEmployees_cust01npr_2024032106.csv, 1711011448811192>\n",
      "data appended for <Blob: cust01-heapdump, TMSReports/ActiveEmployees_cust01prd_2024032106.csv, 1711008403667125>\n",
      "data appended for <Blob: cust01-heapdump, TMSReports/ActiveEmployees_cust01stg_2024032106.csv, 1711002219884391>\n",
      "data appended for <Blob: cust01-heapdump, TMSReports/ActiveEmployees_cust02npr_2024032106.csv, 1711001194254464>\n",
      "data appended for <Blob: cust01-heapdump, TMSReports/ActiveEmployees_cust02prd_2024032106.csv, 1711001518918804>\n",
      "data appended for <Blob: cust01-heapdump, TMSReports/ActiveEmployees_cust03npr_2024032106.csv, 1711001681348889>\n",
      "data appended for <Blob: cust01-heapdump, TMSReports/ActiveEmployees_cust03prd_2024032106.csv, 1711001740661551>\n",
      "data appended for <Blob: cust01-heapdump, TMSReports/ActiveEmployees_cust04npr_2024032106.csv, 1711001261075165>\n",
      "data appended for <Blob: cust01-heapdump, TMSReports/ActiveEmployees_cust04prd_2024032106.csv, 1711001312950087>\n",
      "data appended for <Blob: cust01-heapdump, TMSReports/ActiveEmployees_dcus11npr_2024032106.csv, 1711001509619502>\n",
      "data appended for <Blob: cust01-heapdump, TMSReports/ActiveEmployees_dcus11prd_2024032106.csv, 1711001719742726>\n",
      "data appended for <Blob: cust01-heapdump, TMSReports/ActiveEmployees_dcus14npr_2024032106.csv, 1711001132491176>\n",
      "data appended for <Blob: cust01-heapdump, TMSReports/ActiveEmployees_dcus14prd_2024032106.csv, 1711001130175205>\n",
      "data appended for <Blob: cust01-heapdump, TMSReports/ActiveEmployees_dcus21npr_2024032106.csv, 1711001335887141>\n",
      "data appended for <Blob: cust01-heapdump, TMSReports/ActiveEmployees_dcus21prd_2024032106.csv, 1711001120837832>\n",
      "data appended for <Blob: cust01-heapdump, TMSReports/ActiveEmployees_kcfn01cfn_2024032106.csv, 1711001107730545>\n",
      "dataframe creation completed\n"
     ]
    }
   ],
   "source": [
    "r_obj.transform_active_employee_data()"
   ]
  },
  {
   "cell_type": "code",
   "execution_count": 46,
   "id": "33cfb3b3",
   "metadata": {},
   "outputs": [],
   "source": [
    "import imp\n",
    "import report_handler\n",
    "imp.reload(report_handler)\n",
    "config = U.get_config(\"config.ini\")"
   ]
  },
  {
   "cell_type": "code",
   "execution_count": 47,
   "id": "a7574130",
   "metadata": {},
   "outputs": [
    {
     "name": "stdout",
     "output_type": "stream",
     "text": [
      "between 6 and 18\n"
     ]
    }
   ],
   "source": [
    "imp.reload(report_handler)\n",
    "r_obj = report_handler.ReportHandler(config)\n",
    "self = r_obj"
   ]
  },
  {
   "cell_type": "code",
   "execution_count": 48,
   "id": "67203af8",
   "metadata": {
    "scrolled": false
   },
   "outputs": [
    {
     "name": "stdout",
     "output_type": "stream",
     "text": [
      "data appended for <Blob: cust01-heapdump, TMSReports/TMSEntitlement_2024032106_koss01.csv, 1711000826507214>\n",
      "dataframe creation completed\n",
      "16\n",
      "data appended for <Blob: cust01-heapdump, TMSReports/ActiveEmployees_cust01npr_2024032106.csv, 1711011448811192>\n",
      "data appended for <Blob: cust01-heapdump, TMSReports/ActiveEmployees_cust01prd_2024032106.csv, 1711008403667125>\n",
      "data appended for <Blob: cust01-heapdump, TMSReports/ActiveEmployees_cust01stg_2024032106.csv, 1711002219884391>\n",
      "data appended for <Blob: cust01-heapdump, TMSReports/ActiveEmployees_cust02npr_2024032106.csv, 1711001194254464>\n",
      "data appended for <Blob: cust01-heapdump, TMSReports/ActiveEmployees_cust02prd_2024032106.csv, 1711001518918804>\n",
      "data appended for <Blob: cust01-heapdump, TMSReports/ActiveEmployees_cust03npr_2024032106.csv, 1711001681348889>\n",
      "data appended for <Blob: cust01-heapdump, TMSReports/ActiveEmployees_cust03prd_2024032106.csv, 1711001740661551>\n",
      "data appended for <Blob: cust01-heapdump, TMSReports/ActiveEmployees_cust04npr_2024032106.csv, 1711001261075165>\n",
      "data appended for <Blob: cust01-heapdump, TMSReports/ActiveEmployees_cust04prd_2024032106.csv, 1711001312950087>\n",
      "data appended for <Blob: cust01-heapdump, TMSReports/ActiveEmployees_dcus11npr_2024032106.csv, 1711001509619502>\n",
      "data appended for <Blob: cust01-heapdump, TMSReports/ActiveEmployees_dcus11prd_2024032106.csv, 1711001719742726>\n",
      "data appended for <Blob: cust01-heapdump, TMSReports/ActiveEmployees_dcus14npr_2024032106.csv, 1711001132491176>\n",
      "data appended for <Blob: cust01-heapdump, TMSReports/ActiveEmployees_dcus14prd_2024032106.csv, 1711001130175205>\n",
      "data appended for <Blob: cust01-heapdump, TMSReports/ActiveEmployees_dcus21npr_2024032106.csv, 1711001335887141>\n",
      "data appended for <Blob: cust01-heapdump, TMSReports/ActiveEmployees_dcus21prd_2024032106.csv, 1711001120837832>\n",
      "data appended for <Blob: cust01-heapdump, TMSReports/ActiveEmployees_kcfn01cfn_2024032106.csv, 1711001107730545>\n",
      "dataframe creation completed\n",
      "data appended for <Blob: cust01-heapdump, TMSReports/License_2024032106_koss01.csv, 1711004632631029>\n",
      "dataframe creation completed\n",
      "data appended for <Blob: cust01-heapdump, ListSchemaSize/ListSchemaSize_Report_2024032018_koss01.csv, 1710971806693211>\n",
      "dataframe creation completed\n"
     ]
    }
   ],
   "source": [
    "r_obj.transform_tmo_data()"
   ]
  },
  {
   "cell_type": "code",
   "execution_count": 49,
   "id": "d7794c0c",
   "metadata": {
    "scrolled": true
   },
   "outputs": [],
   "source": [
    "r_obj.transform_cfn_cust_data()"
   ]
  },
  {
   "cell_type": "code",
   "execution_count": 50,
   "id": "8d8aeea9",
   "metadata": {},
   "outputs": [],
   "source": [
    "tmo_cols = set(r_obj.tmo_data.columns)"
   ]
  },
  {
   "cell_type": "code",
   "execution_count": 51,
   "id": "03aae7c8",
   "metadata": {},
   "outputs": [],
   "source": [
    "cfn_cols = set(config['destination_database']['col_list'])"
   ]
  },
  {
   "cell_type": "code",
   "execution_count": 52,
   "id": "52e27bef",
   "metadata": {},
   "outputs": [
    {
     "data": {
      "text/plain": [
       "set()"
      ]
     },
     "execution_count": 52,
     "metadata": {},
     "output_type": "execute_result"
    }
   ],
   "source": [
    "cfn_cols-tmo_cols"
   ]
  },
  {
   "cell_type": "code",
   "execution_count": 53,
   "id": "93e7ac7e",
   "metadata": {},
   "outputs": [
    {
     "data": {
      "text/plain": [
       "13825"
      ]
     },
     "execution_count": 53,
     "metadata": {},
     "output_type": "execute_result"
    }
   ],
   "source": [
    "len(r_obj.tmo_data)"
   ]
  },
  {
   "cell_type": "code",
   "execution_count": 55,
   "id": "4806d757",
   "metadata": {},
   "outputs": [
    {
     "data": {
      "text/html": [
       "<div>\n",
       "<style scoped>\n",
       "    .dataframe tbody tr th:only-of-type {\n",
       "        vertical-align: middle;\n",
       "    }\n",
       "\n",
       "    .dataframe tbody tr th {\n",
       "        vertical-align: top;\n",
       "    }\n",
       "\n",
       "    .dataframe thead th {\n",
       "        text-align: right;\n",
       "    }\n",
       "</style>\n",
       "<table border=\"1\" class=\"dataframe\">\n",
       "  <thead>\n",
       "    <tr style=\"text-align: right;\">\n",
       "      <th></th>\n",
       "      <th>solution_id</th>\n",
       "      <th>employee_count</th>\n",
       "      <th>tenant_name</th>\n",
       "      <th>vanity_url</th>\n",
       "      <th>prod_envs</th>\n",
       "      <th>nonprod_envs</th>\n",
       "      <th>stack</th>\n",
       "      <th>environment</th>\n",
       "      <th>instance</th>\n",
       "      <th>wfm_cluster</th>\n",
       "      <th>region</th>\n",
       "      <th>company_code</th>\n",
       "      <th>client_move_or_flip</th>\n",
       "      <th>custom_tags</th>\n",
       "      <th>active_employees_based_on_usage</th>\n",
       "      <th>core_hourly</th>\n",
       "      <th>core_salary</th>\n",
       "      <th>total_usage_employee_count</th>\n",
       "      <th>scheduling_users</th>\n",
       "      <th>scheduling_advanced</th>\n",
       "      <th>accrual_users</th>\n",
       "      <th>analytics_users</th>\n",
       "      <th>hc_analytics</th>\n",
       "      <th>absence_users</th>\n",
       "      <th>leave_users</th>\n",
       "      <th>optimized_scheduling_users</th>\n",
       "      <th>work_users</th>\n",
       "      <th>hourly_timekeeping_entitlement</th>\n",
       "      <th>salaried_timekeeping_entitlement</th>\n",
       "      <th>total_entitlement_employee_count</th>\n",
       "      <th>workforce_scheduler_employee_entitlement</th>\n",
       "      <th>advanced_scheduling_entitlement</th>\n",
       "      <th>accruals_and_leaves_entitlement</th>\n",
       "      <th>accruals_entitlement</th>\n",
       "      <th>core_analytics_entitlement</th>\n",
       "      <th>hc_analytics_entitlement</th>\n",
       "      <th>absence_management_entitlement</th>\n",
       "      <th>optimized_scheduling_entitlement</th>\n",
       "      <th>work_entitlement</th>\n",
       "      <th>non_prod_tenant_counts_less_500</th>\n",
       "      <th>execution_time</th>\n",
       "      <th>schema_size</th>\n",
       "      <th>source_name</th>\n",
       "    </tr>\n",
       "  </thead>\n",
       "  <tbody>\n",
       "    <tr>\n",
       "      <th>0</th>\n",
       "      <td>Internal</td>\n",
       "      <td>NaN</td>\n",
       "      <td>PRCSRM</td>\n",
       "      <td>c10-PRCSRM.npr.mykronos.com</td>\n",
       "      <td>0</td>\n",
       "      <td>14</td>\n",
       "      <td>cust01</td>\n",
       "      <td>npr01</td>\n",
       "      <td>ins01</td>\n",
       "      <td>wfm10</td>\n",
       "      <td>NaN</td>\n",
       "      <td>NaN</td>\n",
       "      <td>NaN</td>\n",
       "      <td>NaN</td>\n",
       "      <td>0.0</td>\n",
       "      <td>NaN</td>\n",
       "      <td>NaN</td>\n",
       "      <td>NaN</td>\n",
       "      <td>NaN</td>\n",
       "      <td>NaN</td>\n",
       "      <td>NaN</td>\n",
       "      <td>NaN</td>\n",
       "      <td>NaN</td>\n",
       "      <td>NaN</td>\n",
       "      <td>NaN</td>\n",
       "      <td>NaN</td>\n",
       "      <td>NaN</td>\n",
       "      <td>100000</td>\n",
       "      <td>100000</td>\n",
       "      <td>200000</td>\n",
       "      <td>100000</td>\n",
       "      <td>100000</td>\n",
       "      <td>100000</td>\n",
       "      <td>100000</td>\n",
       "      <td>100000</td>\n",
       "      <td>300001</td>\n",
       "      <td>100000</td>\n",
       "      <td>0</td>\n",
       "      <td>150000</td>\n",
       "      <td>199500</td>\n",
       "      <td>2024-03-21 09:39:45.111125</td>\n",
       "      <td>1043 MB</td>\n",
       "      <td>tms_wfd_db_2024032106</td>\n",
       "    </tr>\n",
       "    <tr>\n",
       "      <th>1</th>\n",
       "      <td>Internal</td>\n",
       "      <td>NaN</td>\n",
       "      <td>p0man01</td>\n",
       "      <td>p0-man01.npr.mykronos.com</td>\n",
       "      <td>0</td>\n",
       "      <td>14</td>\n",
       "      <td>cust01</td>\n",
       "      <td>npr01</td>\n",
       "      <td>ins01</td>\n",
       "      <td>wfm10</td>\n",
       "      <td>NaN</td>\n",
       "      <td>NaN</td>\n",
       "      <td>NaN</td>\n",
       "      <td>manufacturing</td>\n",
       "      <td>NaN</td>\n",
       "      <td>NaN</td>\n",
       "      <td>NaN</td>\n",
       "      <td>NaN</td>\n",
       "      <td>NaN</td>\n",
       "      <td>NaN</td>\n",
       "      <td>NaN</td>\n",
       "      <td>NaN</td>\n",
       "      <td>NaN</td>\n",
       "      <td>NaN</td>\n",
       "      <td>NaN</td>\n",
       "      <td>NaN</td>\n",
       "      <td>NaN</td>\n",
       "      <td>100000</td>\n",
       "      <td>100000</td>\n",
       "      <td>200000</td>\n",
       "      <td>100000</td>\n",
       "      <td>100000</td>\n",
       "      <td>100000</td>\n",
       "      <td>100000</td>\n",
       "      <td>100000</td>\n",
       "      <td>300001</td>\n",
       "      <td>100000</td>\n",
       "      <td>0</td>\n",
       "      <td>150000</td>\n",
       "      <td>199500</td>\n",
       "      <td>2024-03-21 09:39:45.111125</td>\n",
       "      <td>NaN</td>\n",
       "      <td>tms_wfd_db_2024032106</td>\n",
       "    </tr>\n",
       "    <tr>\n",
       "      <th>2</th>\n",
       "      <td>6104143</td>\n",
       "      <td>NaN</td>\n",
       "      <td>kronosuat01</td>\n",
       "      <td>kronos-uat.npr.mykronos.com</td>\n",
       "      <td>1</td>\n",
       "      <td>4</td>\n",
       "      <td>cust01</td>\n",
       "      <td>npr01</td>\n",
       "      <td>ins01</td>\n",
       "      <td>wfm10</td>\n",
       "      <td>NaN</td>\n",
       "      <td>NaN</td>\n",
       "      <td>NaN</td>\n",
       "      <td>KRONOS THE CUSTOMER</td>\n",
       "      <td>33.0</td>\n",
       "      <td>NaN</td>\n",
       "      <td>NaN</td>\n",
       "      <td>NaN</td>\n",
       "      <td>NaN</td>\n",
       "      <td>NaN</td>\n",
       "      <td>NaN</td>\n",
       "      <td>NaN</td>\n",
       "      <td>0.0</td>\n",
       "      <td>NaN</td>\n",
       "      <td>NaN</td>\n",
       "      <td>NaN</td>\n",
       "      <td>NaN</td>\n",
       "      <td>5000</td>\n",
       "      <td>38000</td>\n",
       "      <td>43000</td>\n",
       "      <td>0</td>\n",
       "      <td>43000</td>\n",
       "      <td>13000</td>\n",
       "      <td>0</td>\n",
       "      <td>53000</td>\n",
       "      <td>0</td>\n",
       "      <td>43000</td>\n",
       "      <td>0</td>\n",
       "      <td>43000</td>\n",
       "      <td>42500</td>\n",
       "      <td>2024-03-21 09:39:45.111125</td>\n",
       "      <td>794 MB</td>\n",
       "      <td>tms_wfd_db_2024032106</td>\n",
       "    </tr>\n",
       "    <tr>\n",
       "      <th>3</th>\n",
       "      <td>Internal</td>\n",
       "      <td>NaN</td>\n",
       "      <td>blanktesttenant</td>\n",
       "      <td>blank-testtenant.npr.mykronos.com, blank-testt...</td>\n",
       "      <td>0</td>\n",
       "      <td>14</td>\n",
       "      <td>cust01</td>\n",
       "      <td>npr01</td>\n",
       "      <td>ins01</td>\n",
       "      <td>wfm10</td>\n",
       "      <td>NaN</td>\n",
       "      <td>NaN</td>\n",
       "      <td>NaN</td>\n",
       "      <td>bypassed</td>\n",
       "      <td>1.0</td>\n",
       "      <td>NaN</td>\n",
       "      <td>NaN</td>\n",
       "      <td>NaN</td>\n",
       "      <td>NaN</td>\n",
       "      <td>NaN</td>\n",
       "      <td>NaN</td>\n",
       "      <td>NaN</td>\n",
       "      <td>NaN</td>\n",
       "      <td>NaN</td>\n",
       "      <td>NaN</td>\n",
       "      <td>NaN</td>\n",
       "      <td>NaN</td>\n",
       "      <td>100000</td>\n",
       "      <td>100000</td>\n",
       "      <td>200000</td>\n",
       "      <td>100000</td>\n",
       "      <td>100000</td>\n",
       "      <td>100000</td>\n",
       "      <td>100000</td>\n",
       "      <td>100000</td>\n",
       "      <td>300001</td>\n",
       "      <td>100000</td>\n",
       "      <td>0</td>\n",
       "      <td>150000</td>\n",
       "      <td>199500</td>\n",
       "      <td>2024-03-21 09:39:45.111125</td>\n",
       "      <td>721 MB</td>\n",
       "      <td>tms_wfd_db_2024032106</td>\n",
       "    </tr>\n",
       "    <tr>\n",
       "      <th>4</th>\n",
       "      <td>Kronos-Internal-Good</td>\n",
       "      <td>NaN</td>\n",
       "      <td>othersdm-step-test</td>\n",
       "      <td>othersdm-step-test.npr.mykronos.com</td>\n",
       "      <td>1</td>\n",
       "      <td>2</td>\n",
       "      <td>cust01</td>\n",
       "      <td>npr01</td>\n",
       "      <td>ins01</td>\n",
       "      <td>wfm10</td>\n",
       "      <td>NaN</td>\n",
       "      <td>NaN</td>\n",
       "      <td>NaN</td>\n",
       "      <td>NaN</td>\n",
       "      <td>0.0</td>\n",
       "      <td>NaN</td>\n",
       "      <td>NaN</td>\n",
       "      <td>NaN</td>\n",
       "      <td>NaN</td>\n",
       "      <td>NaN</td>\n",
       "      <td>NaN</td>\n",
       "      <td>NaN</td>\n",
       "      <td>NaN</td>\n",
       "      <td>NaN</td>\n",
       "      <td>NaN</td>\n",
       "      <td>NaN</td>\n",
       "      <td>0.0</td>\n",
       "      <td>150000</td>\n",
       "      <td>150000</td>\n",
       "      <td>300000</td>\n",
       "      <td>300000</td>\n",
       "      <td>0</td>\n",
       "      <td>0</td>\n",
       "      <td>300000</td>\n",
       "      <td>0</td>\n",
       "      <td>0</td>\n",
       "      <td>500</td>\n",
       "      <td>0</td>\n",
       "      <td>0</td>\n",
       "      <td>299500</td>\n",
       "      <td>2024-03-21 09:39:45.111125</td>\n",
       "      <td>211 MB</td>\n",
       "      <td>tms_wfd_db_2024032106</td>\n",
       "    </tr>\n",
       "  </tbody>\n",
       "</table>\n",
       "</div>"
      ],
      "text/plain": [
       "            solution_id  employee_count         tenant_name  \\\n",
       "0              Internal             NaN              PRCSRM   \n",
       "1              Internal             NaN             p0man01   \n",
       "2               6104143             NaN         kronosuat01   \n",
       "3              Internal             NaN     blanktesttenant   \n",
       "4  Kronos-Internal-Good             NaN  othersdm-step-test   \n",
       "\n",
       "                                          vanity_url  prod_envs  nonprod_envs  \\\n",
       "0                        c10-PRCSRM.npr.mykronos.com          0            14   \n",
       "1                          p0-man01.npr.mykronos.com          0            14   \n",
       "2                        kronos-uat.npr.mykronos.com          1             4   \n",
       "3  blank-testtenant.npr.mykronos.com, blank-testt...          0            14   \n",
       "4                othersdm-step-test.npr.mykronos.com          1             2   \n",
       "\n",
       "    stack environment instance wfm_cluster region company_code  \\\n",
       "0  cust01       npr01    ins01       wfm10    NaN          NaN   \n",
       "1  cust01       npr01    ins01       wfm10    NaN          NaN   \n",
       "2  cust01       npr01    ins01       wfm10    NaN          NaN   \n",
       "3  cust01       npr01    ins01       wfm10    NaN          NaN   \n",
       "4  cust01       npr01    ins01       wfm10    NaN          NaN   \n",
       "\n",
       "  client_move_or_flip          custom_tags  active_employees_based_on_usage  \\\n",
       "0                 NaN                  NaN                              0.0   \n",
       "1                 NaN        manufacturing                              NaN   \n",
       "2                 NaN  KRONOS THE CUSTOMER                             33.0   \n",
       "3                 NaN             bypassed                              1.0   \n",
       "4                 NaN                  NaN                              0.0   \n",
       "\n",
       "   core_hourly  core_salary  total_usage_employee_count  scheduling_users  \\\n",
       "0          NaN          NaN                         NaN               NaN   \n",
       "1          NaN          NaN                         NaN               NaN   \n",
       "2          NaN          NaN                         NaN               NaN   \n",
       "3          NaN          NaN                         NaN               NaN   \n",
       "4          NaN          NaN                         NaN               NaN   \n",
       "\n",
       "   scheduling_advanced  accrual_users  analytics_users  hc_analytics  \\\n",
       "0                  NaN            NaN              NaN           NaN   \n",
       "1                  NaN            NaN              NaN           NaN   \n",
       "2                  NaN            NaN              NaN           0.0   \n",
       "3                  NaN            NaN              NaN           NaN   \n",
       "4                  NaN            NaN              NaN           NaN   \n",
       "\n",
       "   absence_users  leave_users  optimized_scheduling_users  work_users  \\\n",
       "0            NaN          NaN                         NaN         NaN   \n",
       "1            NaN          NaN                         NaN         NaN   \n",
       "2            NaN          NaN                         NaN         NaN   \n",
       "3            NaN          NaN                         NaN         NaN   \n",
       "4            NaN          NaN                         NaN         0.0   \n",
       "\n",
       "   hourly_timekeeping_entitlement  salaried_timekeeping_entitlement  \\\n",
       "0                          100000                            100000   \n",
       "1                          100000                            100000   \n",
       "2                            5000                             38000   \n",
       "3                          100000                            100000   \n",
       "4                          150000                            150000   \n",
       "\n",
       "   total_entitlement_employee_count  workforce_scheduler_employee_entitlement  \\\n",
       "0                            200000                                    100000   \n",
       "1                            200000                                    100000   \n",
       "2                             43000                                         0   \n",
       "3                            200000                                    100000   \n",
       "4                            300000                                    300000   \n",
       "\n",
       "   advanced_scheduling_entitlement  accruals_and_leaves_entitlement  \\\n",
       "0                           100000                           100000   \n",
       "1                           100000                           100000   \n",
       "2                            43000                            13000   \n",
       "3                           100000                           100000   \n",
       "4                                0                                0   \n",
       "\n",
       "   accruals_entitlement  core_analytics_entitlement  hc_analytics_entitlement  \\\n",
       "0                100000                      100000                    300001   \n",
       "1                100000                      100000                    300001   \n",
       "2                     0                       53000                         0   \n",
       "3                100000                      100000                    300001   \n",
       "4                300000                           0                         0   \n",
       "\n",
       "   absence_management_entitlement  optimized_scheduling_entitlement  \\\n",
       "0                          100000                                 0   \n",
       "1                          100000                                 0   \n",
       "2                           43000                                 0   \n",
       "3                          100000                                 0   \n",
       "4                             500                                 0   \n",
       "\n",
       "   work_entitlement  non_prod_tenant_counts_less_500  \\\n",
       "0            150000                           199500   \n",
       "1            150000                           199500   \n",
       "2             43000                            42500   \n",
       "3            150000                           199500   \n",
       "4                 0                           299500   \n",
       "\n",
       "              execution_time schema_size            source_name  \n",
       "0 2024-03-21 09:39:45.111125     1043 MB  tms_wfd_db_2024032106  \n",
       "1 2024-03-21 09:39:45.111125         NaN  tms_wfd_db_2024032106  \n",
       "2 2024-03-21 09:39:45.111125      794 MB  tms_wfd_db_2024032106  \n",
       "3 2024-03-21 09:39:45.111125      721 MB  tms_wfd_db_2024032106  \n",
       "4 2024-03-21 09:39:45.111125      211 MB  tms_wfd_db_2024032106  "
      ]
     },
     "execution_count": 55,
     "metadata": {},
     "output_type": "execute_result"
    }
   ],
   "source": [
    "r_obj.tmo_data.head()"
   ]
  },
  {
   "cell_type": "code",
   "execution_count": 73,
   "id": "269a98e8",
   "metadata": {},
   "outputs": [
    {
     "data": {
      "text/plain": [
       "(3106, 10542)"
      ]
     },
     "execution_count": 73,
     "metadata": {},
     "output_type": "execute_result"
    }
   ],
   "source": [
    "len(r_obj.cfn_data), len(r_obj.cust_data)"
   ]
  },
  {
   "cell_type": "code",
   "execution_count": 74,
   "id": "325a402e",
   "metadata": {},
   "outputs": [
    {
     "data": {
      "text/plain": [
       "13648"
      ]
     },
     "execution_count": 74,
     "metadata": {},
     "output_type": "execute_result"
    }
   ],
   "source": [
    "len(r_obj.cfn_data) + len(r_obj.cust_data)"
   ]
  },
  {
   "cell_type": "code",
   "execution_count": 19,
   "id": "3b1f218e",
   "metadata": {},
   "outputs": [],
   "source": [
    "r_obj.ingest_cfn_data()"
   ]
  },
  {
   "cell_type": "code",
   "execution_count": 75,
   "id": "7d238c31",
   "metadata": {},
   "outputs": [
    {
     "name": "stdout",
     "output_type": "stream",
     "text": [
      "4\n"
     ]
    }
   ],
   "source": [
    "r_obj.ingest_cust_data()"
   ]
  },
  {
   "cell_type": "code",
   "execution_count": 78,
   "id": "f0b916fc",
   "metadata": {},
   "outputs": [],
   "source": [
    "# r_obj.cfn_data.to_csv(\"cfn_data.csv\", index=False)\n",
    "# r_obj.cust_data.to_csv(\"cust_data.csv\", index=False)"
   ]
  }
 ],
 "metadata": {
  "kernelspec": {
   "display_name": "brs_dashboard",
   "language": "python",
   "name": "brs_dashboard"
  },
  "language_info": {
   "codemirror_mode": {
    "name": "ipython",
    "version": 3
   },
   "file_extension": ".py",
   "mimetype": "text/x-python",
   "name": "python",
   "nbconvert_exporter": "python",
   "pygments_lexer": "ipython3",
   "version": "3.8.16"
  }
 },
 "nbformat": 4,
 "nbformat_minor": 5
}
